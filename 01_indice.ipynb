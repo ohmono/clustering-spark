{
  "nbformat": 4,
  "nbformat_minor": 0,
  "metadata": {
    "colab": {
      "provenance": [],
      "include_colab_link": true
    },
    "kernelspec": {
      "display_name": "Python 3",
      "language": "python",
      "name": "python3"
    },
    "language_info": {
      "codemirror_mode": {
        "name": "ipython",
        "version": 3
      },
      "file_extension": ".py",
      "mimetype": "text/x-python",
      "name": "python",
      "nbconvert_exporter": "python",
      "pygments_lexer": "ipython3",
      "version": "3.7.3"
    }
  },
  "cells": [
    {
      "cell_type": "markdown",
      "metadata": {
        "id": "view-in-github",
        "colab_type": "text"
      },
      "source": [
        "<a href=\"https://colab.research.google.com/github/ohmono/clustering-spark/blob/main/01_indice.ipynb\" target=\"_parent\"><img src=\"https://colab.research.google.com/assets/colab-badge.svg\" alt=\"Open In Colab\"/></a>"
      ]
    },
    {
      "cell_type": "markdown",
      "metadata": {
        "id": "EWSniNPAjjQh"
      },
      "source": [
        "<p><img alt=\"udeA logo\" height=\"120px\" src=\"https://github.com/freddyduitama/images/blob/master/logo.png?raw=true\" align=\"left\" hspace=\"10px\" vspace=\"0px\" style=\"width:107px;height:152px;\"></p>\n",
        "<h1><font color='0B5345'> <center>Prácticas de Laboratorio. <br>Las Bases de Datos y la Ingeniería de Datos.</center></font></h1>\n",
        "<font  face=\"Courier New\" size=\"2\">\n",
        " <center>Prof. John Freddy Duitama Muñoz Ph.D.</center>\n",
        " <center>Prof. Mario Giraldo. Msc.</center>\n",
        "<p><center><b><font color='0B5345' face=\"Lucida Calligraphy,Comic Sans MS,Lucida Console\" size=\"4\">Universidad de Antioquia.</font></b> </center></p>\n",
        "</font>"
      ]
    },
    {
      "cell_type": "markdown",
      "metadata": {
        "id": "d7dGOQsIspqJ"
      },
      "source": [
        "### <font color='black' face=\"Courier New\">Resumen. </font>\n",
        "\n",
        "<font face=\"Comic Sans MS\" size=2.5>\n",
        "<p align=\"justify\"> La principal meta del curso es introducir los conceptos básicos que gobiernan la tecnología de bases de datos y de la ingeniería de datos, apropiarse de las técnicas y herramientras usadas en el  diseño de una base datos y conocer las actuales tendencias.\n",
        "</p>\n",
        "    \n",
        "### <font color='black' face=\"Courier New\"> Objetivos.</font>\n",
        "<p align=\"justify\">  Al finalizar el curso el estudiante debe estar en condiciones de:\n",
        "<ul><li>Conocer  y aplicar con propiedad los conceptos fundamentales que rigen el mundo de las Bases de Datos.</li>\n",
        "\n",
        "<li>Aplicar la tecnología de bases de datos en el desarrollo de sistemas de información.</li>\n",
        "\n",
        "<li>Conocer y Aplicar la tecnologías desarrolladas para la gestión de grandes volúmenes de datos.</li>\n",
        "\n",
        "<li>Conocer los aspectos más relevantes de las nuevas tendencias en B. de D.</li>\n",
        "</ul>\n",
        "\n",
        "### <font color='black' face=\"Courier New\">Metodología. </font>\n",
        "\n",
        "<p align=\"justify\"> El material de este notebook presenta los temas básicos, acompañados de videos cortos explicativos. El curso está orientado al autoestudio y se complemente con sesiones de discusión y desarrollo de problemas prácticos. <br>\n",
        " </p>"
      ]
    },
    {
      "cell_type": "markdown",
      "metadata": {
        "id": "wUijAhrCm0-h"
      },
      "source": [
        "### <font color='black' face=\"Courier New\">Contenido.</font>\n",
        "\n",
        "<table style: border=2px solid black;>  \n",
        "\n",
        "<tr align=\"center\">\n",
        "  <th align=\"center\"><font face=\"Comic Sans MS\" size=2.5 color=\"0B5345\" align=\"center\">&emsp;&emsp;Modulo</font></th>\n",
        "  <th align=\"center\"><font face=\"Comic Sans MS\" size=2.5  color=\"0B5345\">Tema&emsp;&emsp;&emsp;&emsp;&emsp;&emsp;&emsp;&emsp; </font></th>\n",
        "  <th align=\"center\" ><font face=\"Comic Sans MS\" size=2.5 color=\"0B5345\">Lección&emsp;&emsp;&emsp;&emsp;&emsp;&emsp;</font></th>\n",
        "  <th align=\"center\" ><font face=\"Comic Sans MS\" size=2.5 color=\"0B5345\">Links&emsp;&emsp;</font> </th>\n",
        "  <th align=\"center\" ><font face=\"Comic Sans MS\" size=2.5 color=\"0B5345\">Videos&emsp;&emsp;</font></th>\n",
        "  <th align=\"center\" ><font face=\"Comic Sans MS\" size=\"2.5\" color=\"0B5345\">Homework&emsp;&emsp;</font></th>\n",
        "</tr>\n",
        "   \n",
        "<tr align=\"left\">\n",
        "<td align=\"center\"><font face=\"Comic Sans MS\" size=2>I.</font></td>\n",
        "<td> <div class=\"lectureTitle\"  align=\"left\"> <font face=\"Comic Sans MS\" size=2 >SPARK.</font></div> </td>\n",
        "\n",
        "<td>\n",
        "  <div class=\"lecture\" align=\"left\" >\n",
        "    <ul>\n",
        "     <li><font face=\"Comic Sans MS\" size=2 align=\"left\">[SPARK: Una extensíón de MAP/REDUCE]</font></li>\n",
        "     <li><font face=\"Comic Sans MS\" size=2 align=\"left\">[Introducción a SPARK]</font></li>\n",
        "     <li><font face=\"Comic Sans MS\" size=2 align=\"left\">[Dataframes y los datos estructurados]</font></li>\n",
        "<li><font face=\"Comic Sans MS\" size=2 align=\"left\">[Tablas y particiones con HIVE]</font></li>\n",
        "    </ul>\n",
        "  </div>\n",
        "</td>\n",
        "\n",
        "<td align=\"left\">\n",
        "  <div class=\"lecture\" align=\"left\">\n",
        "  <ul>\n",
        "  <li> <font face=\"Comic Sans MS\" size=2> <a href=\"https://colab.research.google.com/drive/1YoFxA7cugsnKyJZ_LKWn3I3Ce_AIV_hl\">Lección 1.1</a> </font></li>\n",
        "  <li> <font face=\"Comic Sans MS\" size=2> <a href=\"https://colab.research.google.com/drive/13zDbsSAVDTwVtO9LN-Zj47QTr6FWulk1\">Lección 1.2</a></font></li>\n",
        "            <li> <font face=\"Comic Sans MS\" size=2> <a href=\"https://colab.research.google.com/drive/1mwePnBrzdTW7b8k15VXJURP7rV71cSOv\">Lección 1.3</a></font></li>\n",
        "            <li> <font face=\"Comic Sans MS\" size=2> <a href=\"https://colab.research.google.com/drive/1cICbPUc6WZYkz9DkOvtJqvgDvabvy8ve\">Lección 1.4</a></font></li>\n",
        "  </div>\n",
        "</td>\n",
        "\n",
        "<td align=\"left\">\n",
        "<div class=\"lectureInfo\">\n",
        "<ul>\n",
        "<li><font face=\"Comic Sans MS\" size=2 >\n",
        "<a href=\"https://www.youtube.com/watch?v=xnxrtRJi1zI\" >Video-1 </a> &ensp;&ensp;&ensp;&ensp;&ensp;&ensp;&ensp;&ensp;&ensp;</font></li>\n",
        "  <li><font face=\"Comic Sans MS\" size=2 ><a href=\"https://www.youtube.com/watch?v=B4pCoIlX-sw&list=PLaCZc5f_IolzxqiUhtU_p8YyA8el3Axm5&index=2&t=1s\" > </a>&ensp;&emsp;&emsp;&emsp;&emsp; </font></li>\n",
        "<li><font face=\"Comic Sans MS\" size=2 >\n",
        " <a href=\"https://www.youtube.com/watch?v=hbWEBcjgK7U\" ></a>&ensp;&ensp;</a></font>\n",
        "</li>\n",
        "<li><font face=\"Comic Sans MS\" size=2 >\n",
        " <a href=\"https://www.youtube.com/watch?v=hbWEBcjgK7U\" ></a>&ensp;&ensp;</a></font>\n",
        "</li>  \n",
        "</ul>\n",
        "</div>\n",
        "</td>\n",
        "\n",
        "<td align=\"left\">\n",
        "<div class=\"lectureInfo\">\n",
        "<ul>\n",
        "<li><font face=\"Comic Sans MS\" size=\"2\" >\n",
        "<a href=\"https://colab.research.google.com/drive/1g42gAWPPpbOO3DUOvoJ3Csxzds6XSib0\" ></a>&ensp;&emsp;&emsp;&emsp;&emsp; </font></li>\n",
        "\n",
        "<li><font face=\"Comic Sans MS\" size=\"2\" >\n",
        "<a href=\"https://colab.research.google.com/drive/1g42gAWPPpbOO3DUOvoJ3Csxzds6XSib0\"> Homework 1.2-a</a>&ensp;\n",
        "<a href=\"https://colab.research.google.com/drive/1FYmS5YsR2R4D0OLJP7PgB7xCyjfgLhCy#scrollTo=cNqxqZJDoWHX\" >Homework 1.2-b</a>&ensp;&ensp;</font></li>\n",
        "\n",
        "<li><font face=\"Comic Sans MS\" size=\"2\" >\n",
        "<a href=\"https://colab.research.google.com/drive/1admmE-yYha4v9HaeEXXVBJdFNj-75sES\" >Homework 1.3-a</a>&ensp; </font>\n",
        "</li>\n",
        "\n",
        "<li><font face=\"Comic Sans MS\" size=\"2\" >\n",
        "<a href=\"https://colab.research.google.com/drive/1UpJ7eLFHyshmvSPoCBkcFulpZ64mzrPZ#scrollTo=GVEg07olDNKU\" >Homework 1.4 </a> &ensp;&ensp;&ensp;&ensp;&ensp;&ensp;&ensp;&ensp;&ensp;</font>\n",
        "</li>\n",
        "</ul>\n",
        "</div>\n",
        "</td>\n",
        "</tr>\n",
        "\n",
        "\n",
        "\n",
        "</table>\n"
      ]
    },
    {
      "cell_type": "markdown",
      "metadata": {
        "id": "xn87LMr2ooZC"
      },
      "source": [
        "### <font color='black' face=\"Courier New\">Bibliography.</font>\n",
        "\n",
        "<p align=\"justify\"> [1]&nbsp;&nbsp;&nbsp;&nbsp; E.F. Codd.<cite>“A Relational Model of Data for Large Shared Data Bank”.</cite> Communication of  the ACM. 13. num 6, pp. 377-387. 1970. <a href=\"https://www.seas.upenn.edu/~zives/03f/cis550/codd.pdf\"> here. </a></p>\n",
        "\n",
        "<p align=\"justify\"> [2]&nbsp;&nbsp;&nbsp;&nbsp;Hector Garcia-Molina, Jeffrey D. Ullman, Jennifer Widom. <cite>Database Systems: The Complete Book. </cite>\n",
        "$2^{nd}$ edition. Pearson Education, New <br>  &emsp;&emsp;Jersey. 2011. pp. 1248. <a href=\"https://people.inf.elte.hu/miiqaai/elektroModulatorDva.pdf\"> here</a> </p>\n",
        "\n",
        "<p align=\"justify\"> [3]&nbsp;&nbsp;&nbsp;&nbsp;Abraham Silberschatz, Henry F. Korth, S. Sudarshan. <cite>Database System Concepts. </cite>\n",
        "$7^{th}$ edition. Mc Graw Hill, New York. 2020. <a href=\"https://www.db-book.com/db7/\"> here</a> </p>\n",
        "\n",
        "<p>[4]&emsp;J. Leskovec, A. Rajaraman, and J. D. Ullman, <cite>Mining of Massive Datasets,</cite> 3rd ed. New York, NY, USA: Cambridge University Press, 2020. <br> &emsp;&emsp;<a href=\"http://www.mmds.org/#book\"> here</a>  </p>\n",
        "\n",
        "<p align=\"justify\"> [5]&nbsp;&nbsp;&nbsp;&nbsp; J. K. Blitzstein and J.Hwang, <cite>Introduction to Probability</cite>, 2nd ed.  CRC Press, 2019. <a href=\"https://drive.google.com/file/d/1VmkAAGOYCTORq1wxSQqy255qLJjTNvBI/view\"> here</a> </p>\n"
      ]
    },
    {
      "cell_type": "markdown",
      "metadata": {
        "id": "irXzyvLdsgse"
      },
      "source": [
        "<p align=\"left\"><b><font face='Courier New' color=\"black\" align=\"left\" size=4>Copyright.</font></b>\n",
        "<img alt=\"udeA logo\" height=\"120px\" src=\"https://github.com/freddyduitama/images/blob/master/in2lab.png?raw=true\" align=\"right\" hspace=\"10px\" vspace=\"0px\" height=\"120\" width=\"350\"\">\n",
        "                                                                                                                              \n",
        "<font face='Verdana' size=2>\n",
        "John Freddy Duitama Muñoz. <a href=\"https://scienti.minciencias.gov.co/cvlac/visualizador/generarCurriculoCv.do?cod_rh=0000347507\">  CvLAC</a><br>\n",
        "Universidad de Antioquia.<br>\n",
        "Apartado Aéreo 1226 | Dirección: calle 67 No. 53 - 108.<br>\n",
        "Medellín, Colombia. Sur America.\n",
        "    \n",
        "</p>\n",
        "</font>"
      ]
    },
    {
      "cell_type": "markdown",
      "metadata": {
        "id": "E5wnxFrhFnVH"
      },
      "source": [
        "<center><b><font color='0B5345' face=\"Lucida Calligraphy,Comic Sans MS,Lucida Console\" size=\"4\">Universidad de Antioquia.</font></b> </center>"
      ]
    }
  ]
}